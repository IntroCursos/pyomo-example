{
 "cells": [
  {
   "cell_type": "code",
   "execution_count": 16,
   "metadata": {},
   "outputs": [],
   "source": [
    "import pandas as pd\n",
    "import pyomo.environ as pyomo"
   ]
  },
  {
   "cell_type": "code",
   "execution_count": 2,
   "metadata": {},
   "outputs": [],
   "source": [
    "def read_excel(filename):\n",
    "    \"\"\"Read special Excel spreadsheet to input dict. \n",
    "    \n",
    "    Args:\n",
    "        filename: path to a spreadsheet file\n",
    "        \n",
    "    Returns\n",
    "        dict of DataFrames, to be passed to create_model()\n",
    "    \"\"\"\n",
    "    with pd.ExcelFile(filename) as xls:\n",
    "        actor = xls.parse('Actor').set_index('Name')\n",
    "        film = xls.parse('Film').set_index('Title')\n",
    "        actor_film = xls.parse('Actor-Film').set_index(['Actor', 'Film'])\n",
    "        \n",
    "    data = {\n",
    "        'actor': actor,\n",
    "        'film': film,\n",
    "        'actor-film': actor_film}\n",
    "\n",
    "    return data"
   ]
  },
  {
   "cell_type": "code",
   "execution_count": 5,
   "metadata": {},
   "outputs": [],
   "source": [
    "Datos = read_excel('input.xlsx')"
   ]
  },
  {
   "cell_type": "code",
   "execution_count": 8,
   "metadata": {},
   "outputs": [
    {
     "data": {
      "text/plain": [
       "dict_keys(['actor-film', 'film', 'actor'])"
      ]
     },
     "execution_count": 8,
     "metadata": {},
     "output_type": "execute_result"
    }
   ],
   "source": [
    "Datos.keys()"
   ]
  },
  {
   "cell_type": "code",
   "execution_count": 9,
   "metadata": {
    "scrolled": true
   },
   "outputs": [
    {
     "data": {
      "text/html": [
       "<div>\n",
       "<style>\n",
       "    .dataframe thead tr:only-child th {\n",
       "        text-align: right;\n",
       "    }\n",
       "\n",
       "    .dataframe thead th {\n",
       "        text-align: left;\n",
       "    }\n",
       "\n",
       "    .dataframe tbody tr th {\n",
       "        vertical-align: top;\n",
       "    }\n",
       "</style>\n",
       "<table border=\"1\" class=\"dataframe\">\n",
       "  <thead>\n",
       "    <tr style=\"text-align: right;\">\n",
       "      <th></th>\n",
       "      <th>age</th>\n",
       "      <th>sink-source</th>\n",
       "    </tr>\n",
       "    <tr>\n",
       "      <th>Name</th>\n",
       "      <th></th>\n",
       "      <th></th>\n",
       "    </tr>\n",
       "  </thead>\n",
       "  <tbody>\n",
       "    <tr>\n",
       "      <th>Lakeshia Westerberg</th>\n",
       "      <td>15</td>\n",
       "      <td>1</td>\n",
       "    </tr>\n",
       "    <tr>\n",
       "      <th>Rajab Heintze</th>\n",
       "      <td>27</td>\n",
       "      <td>0</td>\n",
       "    </tr>\n",
       "    <tr>\n",
       "      <th>Oceanus Yap</th>\n",
       "      <td>33</td>\n",
       "      <td>0</td>\n",
       "    </tr>\n",
       "    <tr>\n",
       "      <th>Tiger Probert</th>\n",
       "      <td>86</td>\n",
       "      <td>0</td>\n",
       "    </tr>\n",
       "    <tr>\n",
       "      <th>Kevin Bacon</th>\n",
       "      <td>39</td>\n",
       "      <td>-1</td>\n",
       "    </tr>\n",
       "  </tbody>\n",
       "</table>\n",
       "</div>"
      ],
      "text/plain": [
       "                     age  sink-source\n",
       "Name                                 \n",
       "Lakeshia Westerberg   15            1\n",
       "Rajab Heintze         27            0\n",
       "Oceanus Yap           33            0\n",
       "Tiger Probert         86            0\n",
       "Kevin Bacon           39           -1"
      ]
     },
     "execution_count": 9,
     "metadata": {},
     "output_type": "execute_result"
    }
   ],
   "source": [
    "Datos[\"actor\"]"
   ]
  },
  {
   "cell_type": "code",
   "execution_count": 11,
   "metadata": {
    "scrolled": true
   },
   "outputs": [
    {
     "data": {
      "text/html": [
       "<div>\n",
       "<style>\n",
       "    .dataframe thead tr:only-child th {\n",
       "        text-align: right;\n",
       "    }\n",
       "\n",
       "    .dataframe thead th {\n",
       "        text-align: left;\n",
       "    }\n",
       "\n",
       "    .dataframe tbody tr th {\n",
       "        vertical-align: top;\n",
       "    }\n",
       "</style>\n",
       "<table border=\"1\" class=\"dataframe\">\n",
       "  <thead>\n",
       "    <tr style=\"text-align: right;\">\n",
       "      <th></th>\n",
       "      <th>genre</th>\n",
       "      <th>year</th>\n",
       "    </tr>\n",
       "    <tr>\n",
       "      <th>Title</th>\n",
       "      <th></th>\n",
       "      <th></th>\n",
       "    </tr>\n",
       "  </thead>\n",
       "  <tbody>\n",
       "    <tr>\n",
       "      <th>The fast brat of Paris</th>\n",
       "      <td>Film noir</td>\n",
       "      <td>2001</td>\n",
       "    </tr>\n",
       "    <tr>\n",
       "      <th>The young fly</th>\n",
       "      <td>Action</td>\n",
       "      <td>2002</td>\n",
       "    </tr>\n",
       "    <tr>\n",
       "      <th>The red beard</th>\n",
       "      <td>Comedy</td>\n",
       "      <td>2003</td>\n",
       "    </tr>\n",
       "    <tr>\n",
       "      <th>Farm of ribbons</th>\n",
       "      <td>Drama</td>\n",
       "      <td>2004</td>\n",
       "    </tr>\n",
       "  </tbody>\n",
       "</table>\n",
       "</div>"
      ],
      "text/plain": [
       "                            genre  year\n",
       "Title                                  \n",
       "The fast brat of Paris  Film noir  2001\n",
       "The young fly              Action  2002\n",
       "The red beard              Comedy  2003\n",
       "Farm of ribbons             Drama  2004"
      ]
     },
     "execution_count": 11,
     "metadata": {},
     "output_type": "execute_result"
    }
   ],
   "source": [
    "Datos[\"film\"]"
   ]
  },
  {
   "cell_type": "code",
   "execution_count": 10,
   "metadata": {
    "scrolled": true
   },
   "outputs": [
    {
     "data": {
      "text/html": [
       "<div>\n",
       "<style>\n",
       "    .dataframe thead tr:only-child th {\n",
       "        text-align: right;\n",
       "    }\n",
       "\n",
       "    .dataframe thead th {\n",
       "        text-align: left;\n",
       "    }\n",
       "\n",
       "    .dataframe tbody tr th {\n",
       "        vertical-align: top;\n",
       "    }\n",
       "</style>\n",
       "<table border=\"1\" class=\"dataframe\">\n",
       "  <thead>\n",
       "    <tr style=\"text-align: right;\">\n",
       "      <th></th>\n",
       "      <th></th>\n",
       "      <th>screen-time</th>\n",
       "    </tr>\n",
       "    <tr>\n",
       "      <th>Actor</th>\n",
       "      <th>Film</th>\n",
       "      <th></th>\n",
       "    </tr>\n",
       "  </thead>\n",
       "  <tbody>\n",
       "    <tr>\n",
       "      <th>Lakeshia Westerberg</th>\n",
       "      <th>The fast brat of Paris</th>\n",
       "      <td>5</td>\n",
       "    </tr>\n",
       "    <tr>\n",
       "      <th>Oceanus Yap</th>\n",
       "      <th>The fast brat of Paris</th>\n",
       "      <td>55</td>\n",
       "    </tr>\n",
       "    <tr>\n",
       "      <th>Lakeshia Westerberg</th>\n",
       "      <th>The young fly</th>\n",
       "      <td>100</td>\n",
       "    </tr>\n",
       "    <tr>\n",
       "      <th rowspan=\"2\" valign=\"top\">Rajab Heintze</th>\n",
       "      <th>The young fly</th>\n",
       "      <td>80</td>\n",
       "    </tr>\n",
       "    <tr>\n",
       "      <th>The red beard</th>\n",
       "      <td>50</td>\n",
       "    </tr>\n",
       "    <tr>\n",
       "      <th>Oceanus Yap</th>\n",
       "      <th>The red beard</th>\n",
       "      <td>23</td>\n",
       "    </tr>\n",
       "    <tr>\n",
       "      <th rowspan=\"2\" valign=\"top\">Tiger Probert</th>\n",
       "      <th>The red beard</th>\n",
       "      <td>11</td>\n",
       "    </tr>\n",
       "    <tr>\n",
       "      <th>Farm of ribbons</th>\n",
       "      <td>45</td>\n",
       "    </tr>\n",
       "    <tr>\n",
       "      <th>Kevin Bacon</th>\n",
       "      <th>Farm of ribbons</th>\n",
       "      <td>79</td>\n",
       "    </tr>\n",
       "  </tbody>\n",
       "</table>\n",
       "</div>"
      ],
      "text/plain": [
       "                                            screen-time\n",
       "Actor               Film                               \n",
       "Lakeshia Westerberg The fast brat of Paris            5\n",
       "Oceanus Yap         The fast brat of Paris           55\n",
       "Lakeshia Westerberg The young fly                   100\n",
       "Rajab Heintze       The young fly                    80\n",
       "                    The red beard                    50\n",
       "Oceanus Yap         The red beard                    23\n",
       "Tiger Probert       The red beard                    11\n",
       "                    Farm of ribbons                  45\n",
       "Kevin Bacon         Farm of ribbons                  79"
      ]
     },
     "execution_count": 10,
     "metadata": {},
     "output_type": "execute_result"
    }
   ],
   "source": [
    "Datos[\"actor-film\"]"
   ]
  },
  {
   "cell_type": "code",
   "execution_count": 54,
   "metadata": {
    "run_control": {
     "marked": false
    }
   },
   "outputs": [],
   "source": [
    " \"\"\"Create Pyomo ConcreteModel\n",
    "    \"\"\"\n",
    "m = pyomo.ConcreteModel()\n",
    "m.name = 'BACON'\n",
    "m.data = Datos"
   ]
  },
  {
   "cell_type": "code",
   "execution_count": 55,
   "metadata": {},
   "outputs": [],
   "source": [
    "# HELPER FUNCTIONS\n",
    "def get_social_network(actor_film_table):\n",
    "    social_network = []  # list of (actor, actor) pairs together in a film\n",
    "    for film, group in actor_film_table.reset_index().groupby('Film'):\n",
    "        all_actors = group['Actor'].unique()\n",
    "        \n",
    "        for a1, a2 in pd.MultiIndex.from_product([all_actors, all_actors]):\n",
    "            if a1 != a2:  # only  include distinct\n",
    "                social_network.append((a1, a2))\n",
    "    return social_network"
   ]
  },
  {
   "cell_type": "code",
   "execution_count": 56,
   "metadata": {},
   "outputs": [],
   "source": [
    "\n",
    "# pre-processing\n",
    "social_network = get_social_network(m.data['actor-film'])"
   ]
  },
  {
   "cell_type": "code",
   "execution_count": 57,
   "metadata": {},
   "outputs": [
    {
     "data": {
      "text/plain": [
       "[('Tiger Probert', 'Kevin Bacon'),\n",
       " ('Kevin Bacon', 'Tiger Probert'),\n",
       " ('Lakeshia Westerberg', 'Oceanus Yap'),\n",
       " ('Oceanus Yap', 'Lakeshia Westerberg'),\n",
       " ('Rajab Heintze', 'Oceanus Yap'),\n",
       " ('Rajab Heintze', 'Tiger Probert'),\n",
       " ('Oceanus Yap', 'Rajab Heintze'),\n",
       " ('Oceanus Yap', 'Tiger Probert'),\n",
       " ('Tiger Probert', 'Rajab Heintze'),\n",
       " ('Tiger Probert', 'Oceanus Yap'),\n",
       " ('Lakeshia Westerberg', 'Rajab Heintze'),\n",
       " ('Rajab Heintze', 'Lakeshia Westerberg')]"
      ]
     },
     "execution_count": 57,
     "metadata": {},
     "output_type": "execute_result"
    }
   ],
   "source": [
    "social_network"
   ]
  },
  {
   "cell_type": "code",
   "execution_count": 58,
   "metadata": {},
   "outputs": [],
   "source": [
    "# SETS\n",
    "# elementary sets, e.g.\n",
    "#    actor = {'Actor A', 'Actor B', 'Actor C'}\n",
    "#    film = {'Film 1', 'Film 2', 'Film 3', 'Film 4'}\n",
    "m.actor = pyomo.Set(initialize=m.data['actor'].index.unique())\n",
    "m.film = pyomo.Set(initialize=m.data['film'].index.unique())"
   ]
  },
  {
   "cell_type": "code",
   "execution_count": 97,
   "metadata": {},
   "outputs": [
    {
     "data": {
      "text/plain": [
       "Index(['Lakeshia Westerberg', 'Rajab Heintze', 'Oceanus Yap', 'Tiger Probert',\n",
       "       'Kevin Bacon'],\n",
       "      dtype='object', name='Name')"
      ]
     },
     "execution_count": 97,
     "metadata": {},
     "output_type": "execute_result"
    }
   ],
   "source": [
    "m.data['actor'].index.unique()"
   ]
  },
  {
   "cell_type": "code",
   "execution_count": null,
   "metadata": {},
   "outputs": [],
   "source": []
  },
  {
   "cell_type": "code",
   "execution_count": 59,
   "metadata": {},
   "outputs": [],
   "source": [
    "# tuple sets, e.g.\n",
    "#   plays_in = {('Actor A', 'Film 2'), ...}\n",
    "\n",
    "\n",
    "m.plays_in = pyomo.Set(within=m.actor * m.film,\n",
    "                       initialize=m.data['actor-film'].index)"
   ]
  },
  {
   "cell_type": "code",
   "execution_count": 60,
   "metadata": {},
   "outputs": [],
   "source": [
    "a = m.actor * m.film"
   ]
  },
  {
   "cell_type": "code",
   "execution_count": 61,
   "metadata": {},
   "outputs": [
    {
     "data": {
      "text/plain": [
       "{('Kevin Bacon', 'Farm of ribbons'),\n",
       " ('Kevin Bacon', 'The fast brat of Paris'),\n",
       " ('Kevin Bacon', 'The red beard'),\n",
       " ('Kevin Bacon', 'The young fly'),\n",
       " ('Lakeshia Westerberg', 'Farm of ribbons'),\n",
       " ('Lakeshia Westerberg', 'The fast brat of Paris'),\n",
       " ('Lakeshia Westerberg', 'The red beard'),\n",
       " ('Lakeshia Westerberg', 'The young fly'),\n",
       " ('Oceanus Yap', 'Farm of ribbons'),\n",
       " ('Oceanus Yap', 'The fast brat of Paris'),\n",
       " ('Oceanus Yap', 'The red beard'),\n",
       " ('Oceanus Yap', 'The young fly'),\n",
       " ('Rajab Heintze', 'Farm of ribbons'),\n",
       " ('Rajab Heintze', 'The fast brat of Paris'),\n",
       " ('Rajab Heintze', 'The red beard'),\n",
       " ('Rajab Heintze', 'The young fly'),\n",
       " ('Tiger Probert', 'Farm of ribbons'),\n",
       " ('Tiger Probert', 'The fast brat of Paris'),\n",
       " ('Tiger Probert', 'The red beard'),\n",
       " ('Tiger Probert', 'The young fly')}"
      ]
     },
     "execution_count": 61,
     "metadata": {},
     "output_type": "execute_result"
    }
   ],
   "source": [
    "a.data()"
   ]
  },
  {
   "cell_type": "code",
   "execution_count": 62,
   "metadata": {},
   "outputs": [],
   "source": [
    "#   plays_with = {('Actor A', 'Actor B'), ...}\n",
    "m.plays_with = pyomo.Set(within=m.actor * m.actor,\n",
    "                         initialize=social_network)"
   ]
  },
  {
   "cell_type": "code",
   "execution_count": 63,
   "metadata": {},
   "outputs": [
    {
     "data": {
      "text/plain": [
       "{('Kevin Bacon', 'Tiger Probert'),\n",
       " ('Lakeshia Westerberg', 'Oceanus Yap'),\n",
       " ('Lakeshia Westerberg', 'Rajab Heintze'),\n",
       " ('Oceanus Yap', 'Lakeshia Westerberg'),\n",
       " ('Oceanus Yap', 'Rajab Heintze'),\n",
       " ('Oceanus Yap', 'Tiger Probert'),\n",
       " ('Rajab Heintze', 'Lakeshia Westerberg'),\n",
       " ('Rajab Heintze', 'Oceanus Yap'),\n",
       " ('Rajab Heintze', 'Tiger Probert'),\n",
       " ('Tiger Probert', 'Kevin Bacon'),\n",
       " ('Tiger Probert', 'Oceanus Yap'),\n",
       " ('Tiger Probert', 'Rajab Heintze')}"
      ]
     },
     "execution_count": 63,
     "metadata": {},
     "output_type": "execute_result"
    }
   ],
   "source": [
    "m.plays_with.data()"
   ]
  },
  {
   "cell_type": "code",
   "execution_count": null,
   "metadata": {},
   "outputs": [],
   "source": []
  },
  {
   "cell_type": "code",
   "execution_count": 64,
   "metadata": {},
   "outputs": [],
   "source": [
    "# PARAMS\n",
    "# not needed in this way of doing things. Instead, one can simply use the\n",
    "# DataFrames directly within the constraint function. See fc_rule and \n",
    "# how it accesses the `sink-source` column from input.xlsx."
   ]
  },
  {
   "cell_type": "code",
   "execution_count": 66,
   "metadata": {},
   "outputs": [],
   "source": [
    "# VARIABLES\n",
    "m.flow = pyomo.Var(m.actor, m.actor,  # domain (actor1, actor2)\n",
    "                   within=pyomo.NonNegativeReals)  # flow >= 0"
   ]
  },
  {
   "cell_type": "code",
   "execution_count": 82,
   "metadata": {},
   "outputs": [
    {
     "data": {
      "text/plain": [
       "{('Kevin Bacon', 'Kevin Bacon'): None,\n",
       " ('Kevin Bacon', 'Lakeshia Westerberg'): None,\n",
       " ('Kevin Bacon', 'Oceanus Yap'): None,\n",
       " ('Kevin Bacon', 'Rajab Heintze'): None,\n",
       " ('Kevin Bacon', 'Tiger Probert'): None,\n",
       " ('Lakeshia Westerberg', 'Kevin Bacon'): None,\n",
       " ('Lakeshia Westerberg', 'Lakeshia Westerberg'): None,\n",
       " ('Lakeshia Westerberg', 'Oceanus Yap'): None,\n",
       " ('Lakeshia Westerberg', 'Rajab Heintze'): None,\n",
       " ('Lakeshia Westerberg', 'Tiger Probert'): None,\n",
       " ('Oceanus Yap', 'Kevin Bacon'): None,\n",
       " ('Oceanus Yap', 'Lakeshia Westerberg'): None,\n",
       " ('Oceanus Yap', 'Oceanus Yap'): None,\n",
       " ('Oceanus Yap', 'Rajab Heintze'): None,\n",
       " ('Oceanus Yap', 'Tiger Probert'): None,\n",
       " ('Rajab Heintze', 'Kevin Bacon'): None,\n",
       " ('Rajab Heintze', 'Lakeshia Westerberg'): None,\n",
       " ('Rajab Heintze', 'Oceanus Yap'): None,\n",
       " ('Rajab Heintze', 'Rajab Heintze'): None,\n",
       " ('Rajab Heintze', 'Tiger Probert'): None,\n",
       " ('Tiger Probert', 'Kevin Bacon'): None,\n",
       " ('Tiger Probert', 'Lakeshia Westerberg'): None,\n",
       " ('Tiger Probert', 'Oceanus Yap'): None,\n",
       " ('Tiger Probert', 'Rajab Heintze'): None,\n",
       " ('Tiger Probert', 'Tiger Probert'): None}"
      ]
     },
     "execution_count": 82,
     "metadata": {},
     "output_type": "execute_result"
    }
   ],
   "source": [
    "m.flow.get_values()"
   ]
  },
  {
   "cell_type": "code",
   "execution_count": 69,
   "metadata": {},
   "outputs": [],
   "source": [
    "# OBJECTIVE\n",
    "def obj_rule(m):\n",
    "    return pyomo.summation(m.flow)  # == short for sum{a1,a2} flow[a1,a2]"
   ]
  },
  {
   "cell_type": "code",
   "execution_count": 70,
   "metadata": {},
   "outputs": [],
   "source": [
    "# OBJECTIVE\n",
    "m.obj = pyomo.Objective(rule=obj_rule,  # cf. `def obj_rule` below\n",
    "                        sense=pyomo.minimize)  # or up or down?"
   ]
  },
  {
   "cell_type": "code",
   "execution_count": 72,
   "metadata": {},
   "outputs": [
    {
     "name": "stdout",
     "output_type": "stream",
     "text": [
      "flow[Lakeshia Westerberg,Lakeshia Westerberg] + flow[Lakeshia Westerberg,Oceanus Yap] + flow[Lakeshia Westerberg,Kevin Bacon] + flow[Lakeshia Westerberg,Tiger Probert] + flow[Lakeshia Westerberg,Rajab Heintze] + flow[Oceanus Yap,Lakeshia Westerberg] + flow[Oceanus Yap,Oceanus Yap] + flow[Oceanus Yap,Kevin Bacon] + flow[Oceanus Yap,Tiger Probert] + flow[Oceanus Yap,Rajab Heintze] + flow[Kevin Bacon,Lakeshia Westerberg] + flow[Kevin Bacon,Oceanus Yap] + flow[Kevin Bacon,Kevin Bacon] + flow[Kevin Bacon,Tiger Probert] + flow[Kevin Bacon,Rajab Heintze] + flow[Tiger Probert,Lakeshia Westerberg] + flow[Tiger Probert,Oceanus Yap] + flow[Tiger Probert,Kevin Bacon] + flow[Tiger Probert,Tiger Probert] + flow[Tiger Probert,Rajab Heintze] + flow[Rajab Heintze,Lakeshia Westerberg] + flow[Rajab Heintze,Oceanus Yap] + flow[Rajab Heintze,Kevin Bacon] + flow[Rajab Heintze,Tiger Probert] + flow[Rajab Heintze,Rajab Heintze]"
     ]
    }
   ],
   "source": [
    "pyomo.summation(m.flow).to_string()"
   ]
  },
  {
   "cell_type": "code",
   "execution_count": null,
   "metadata": {},
   "outputs": [],
   "source": []
  },
  {
   "cell_type": "code",
   "execution_count": 76,
   "metadata": {},
   "outputs": [
    {
     "data": {
      "text/plain": [
       "{('Kevin Bacon', 'Tiger Probert'),\n",
       " ('Lakeshia Westerberg', 'Oceanus Yap'),\n",
       " ('Lakeshia Westerberg', 'Rajab Heintze'),\n",
       " ('Oceanus Yap', 'Lakeshia Westerberg'),\n",
       " ('Oceanus Yap', 'Rajab Heintze'),\n",
       " ('Oceanus Yap', 'Tiger Probert'),\n",
       " ('Rajab Heintze', 'Lakeshia Westerberg'),\n",
       " ('Rajab Heintze', 'Oceanus Yap'),\n",
       " ('Rajab Heintze', 'Tiger Probert'),\n",
       " ('Tiger Probert', 'Kevin Bacon'),\n",
       " ('Tiger Probert', 'Oceanus Yap'),\n",
       " ('Tiger Probert', 'Rajab Heintze')}"
      ]
     },
     "execution_count": 76,
     "metadata": {},
     "output_type": "execute_result"
    }
   ],
   "source": [
    "m.plays_with.data()"
   ]
  },
  {
   "cell_type": "code",
   "execution_count": 73,
   "metadata": {},
   "outputs": [],
   "source": [
    "# CONSTRAINTS\n",
    "def fc_rule(m, a):  # a == actor (from the `forall a in m.actor` line above)\n",
    "    flow_balance = 0\n",
    "    for (a1, a2) in m.plays_with:\n",
    "        if a1 == a:\n",
    "            flow_balance += m.flow[a1, a2]\n",
    "        if a2 == a:\n",
    "            flow_balance -= m.flow[a1, a2]\n",
    "    \n",
    "    # HA, finally an example for accessing a parameter value!\n",
    "    flow_balance += m.data['actor'].loc[a, 'sink-source']\n",
    "    \n",
    "    return flow_balance == 0"
   ]
  },
  {
   "cell_type": "code",
   "execution_count": 74,
   "metadata": {},
   "outputs": [],
   "source": [
    "# CONSTRAINTS\n",
    "m.flow_conservation = pyomo.Constraint(m.actor,  # forall a in m.actor \n",
    "                                       rule=fc_rule)  # this must hold"
   ]
  },
  {
   "cell_type": "code",
   "execution_count": 87,
   "metadata": {},
   "outputs": [
    {
     "name": "stdout",
     "output_type": "stream",
     "text": [
      "flow_conservation : Size=5, Index=actor, Active=True\n",
      "    Key                 : Lower : Body                                                                                                                                                                                                                             : Upper : Active\n",
      "            Kevin Bacon :   0.0 :                                                                                                                                                           -1 - flow[Tiger Probert,Kevin Bacon] + flow[Kevin Bacon,Tiger Probert] :   0.0 :   True\n",
      "    Lakeshia Westerberg :   0.0 :                                                            1 - flow[Oceanus Yap,Lakeshia Westerberg] + flow[Lakeshia Westerberg,Rajab Heintze] - flow[Rajab Heintze,Lakeshia Westerberg] + flow[Lakeshia Westerberg,Oceanus Yap] :   0.0 :   True\n",
      "            Oceanus Yap :   0.0 :            flow[Oceanus Yap,Lakeshia Westerberg] - flow[Rajab Heintze,Oceanus Yap] - flow[Lakeshia Westerberg,Oceanus Yap] + flow[Oceanus Yap,Rajab Heintze] - flow[Tiger Probert,Oceanus Yap] + flow[Oceanus Yap,Tiger Probert] :   0.0 :   True\n",
      "          Rajab Heintze :   0.0 :  - flow[Lakeshia Westerberg,Rajab Heintze] - flow[Tiger Probert,Rajab Heintze] + flow[Rajab Heintze,Oceanus Yap] + flow[Rajab Heintze,Lakeshia Westerberg] - flow[Oceanus Yap,Rajab Heintze] + flow[Rajab Heintze,Tiger Probert] :   0.0 :   True\n",
      "          Tiger Probert :   0.0 :                    flow[Tiger Probert,Kevin Bacon] + flow[Tiger Probert,Rajab Heintze] - flow[Kevin Bacon,Tiger Probert] - flow[Rajab Heintze,Tiger Probert] + flow[Tiger Probert,Oceanus Yap] - flow[Oceanus Yap,Tiger Probert] :   0.0 :   True\n"
     ]
    }
   ],
   "source": [
    "m.flow_conservation.pprint()"
   ]
  },
  {
   "cell_type": "code",
   "execution_count": 91,
   "metadata": {},
   "outputs": [],
   "source": [
    "from pyomo.opt import SolverFactory"
   ]
  },
  {
   "cell_type": "code",
   "execution_count": 89,
   "metadata": {},
   "outputs": [
    {
     "name": "stderr",
     "output_type": "stream",
     "text": [
      "WARNING:pyomo.core:DEPRECATION WARNING: Cannot call Model.create_instance() on a concrete model.\n"
     ]
    },
    {
     "name": "stdout",
     "output_type": "stream",
     "text": [
      "WARNING: DEPRECATION WARNING: Cannot call Model.create_instance() on a concrete model.\n"
     ]
    }
   ],
   "source": [
    "#prob = m.create_instance()\n"
   ]
  },
  {
   "cell_type": "code",
   "execution_count": 95,
   "metadata": {},
   "outputs": [
    {
     "name": "stdout",
     "output_type": "stream",
     "text": [
      "GLPSOL: GLPK LP/MIP Solver, v4.57\n",
      "Parameter(s) specified in the command line:\n",
      " --write /var/folders/jp/5g65spjj28z4bxpxm9h_hsjh0000gn/T/tmpbhgcrdhh.glpk.raw\n",
      " --wglp /var/folders/jp/5g65spjj28z4bxpxm9h_hsjh0000gn/T/tmp5ar199m4.glpk.glp\n",
      " --cpxlp /var/folders/jp/5g65spjj28z4bxpxm9h_hsjh0000gn/T/tmpqa21g5va.pyomo.lp\n",
      "Reading problem data from '/var/folders/jp/5g65spjj28z4bxpxm9h_hsjh0000gn/T/tmpqa21g5va.pyomo.lp'...\n",
      "6 rows, 26 columns, 25 non-zeros\n",
      "101 lines were read\n",
      "Writing problem data to '/var/folders/jp/5g65spjj28z4bxpxm9h_hsjh0000gn/T/tmp5ar199m4.glpk.glp'...\n",
      "88 lines were written\n",
      "GLPK Simplex Optimizer, v4.57\n",
      "6 rows, 26 columns, 25 non-zeros\n",
      "Preprocessing...\n",
      "5 rows, 12 columns, 24 non-zeros\n",
      "Scaling...\n",
      " A: min|aij| =  1.000e+00  max|aij| =  1.000e+00  ratio =  1.000e+00\n",
      "Problem data seem to be well scaled\n",
      "Constructing initial basis...\n",
      "Size of triangular part is 4\n",
      "      0: obj =   1.000000000e+00 inf =   1.000e+00 (1)\n",
      "      1: obj =   3.000000000e+00 inf =   0.000e+00 (0)\n",
      "*     2: obj =   3.000000000e+00 inf =   0.000e+00 (0)\n",
      "OPTIMAL LP SOLUTION FOUND\n",
      "Time used:   0.0 secs\n",
      "Memory used: 0.0 Mb (40493 bytes)\n",
      "Writing basic solution to '/var/folders/jp/5g65spjj28z4bxpxm9h_hsjh0000gn/T/tmpbhgcrdhh.glpk.raw'...\n",
      "34 lines were written\n",
      "\n",
      "Problem: \n",
      "- Name: unknown\n",
      "  Lower bound: 3.0\n",
      "  Upper bound: 3.0\n",
      "  Number of objectives: 1\n",
      "  Number of constraints: 6\n",
      "  Number of variables: 26\n",
      "  Number of nonzeros: 25\n",
      "  Sense: minimize\n",
      "Solver: \n",
      "- Status: ok\n",
      "  Termination condition: optimal\n",
      "  Statistics: \n",
      "    Branch and bound: \n",
      "      Number of bounded subproblems: 0\n",
      "      Number of created subproblems: 0\n",
      "  Error rc: 0\n",
      "  Time: 0.07242202758789062\n",
      "Solution: \n",
      "- number of solutions: 0\n",
      "  number of solutions displayed: 0\n",
      "\n"
     ]
    }
   ],
   "source": [
    "optim = SolverFactory('glpk')\n",
    "\n",
    "result = optim.solve(m, tee=True)\n",
    "#prob.load(result)\n",
    "m.solutions.load_from(result)\n",
    "\n",
    "# result statistics\n",
    "print(result)\n"
   ]
  },
  {
   "cell_type": "code",
   "execution_count": 96,
   "metadata": {},
   "outputs": [
    {
     "name": "stdout",
     "output_type": "stream",
     "text": [
      "Model BACON\n",
      "\n",
      "  Variables:\n",
      "    flow : Size=25, Index=flow_index, Domain=NonNegativeReals\n",
      "        Key                                            : Lower : Value : Upper : Fixed : Stale\n",
      "                        ('Kevin Bacon', 'Kevin Bacon') :     0 :   0.0 :  None : False : False\n",
      "                ('Kevin Bacon', 'Lakeshia Westerberg') :     0 :   0.0 :  None : False : False\n",
      "                        ('Kevin Bacon', 'Oceanus Yap') :     0 :   0.0 :  None : False : False\n",
      "                      ('Kevin Bacon', 'Rajab Heintze') :     0 :   0.0 :  None : False : False\n",
      "                      ('Kevin Bacon', 'Tiger Probert') :     0 :   1.0 :  None : False : False\n",
      "                ('Lakeshia Westerberg', 'Kevin Bacon') :     0 :   0.0 :  None : False : False\n",
      "        ('Lakeshia Westerberg', 'Lakeshia Westerberg') :     0 :   0.0 :  None : False : False\n",
      "                ('Lakeshia Westerberg', 'Oceanus Yap') :     0 :   0.0 :  None : False : False\n",
      "              ('Lakeshia Westerberg', 'Rajab Heintze') :     0 :   0.0 :  None : False : False\n",
      "              ('Lakeshia Westerberg', 'Tiger Probert') :     0 :   0.0 :  None : False : False\n",
      "                        ('Oceanus Yap', 'Kevin Bacon') :     0 :   0.0 :  None : False : False\n",
      "                ('Oceanus Yap', 'Lakeshia Westerberg') :     0 :   0.0 :  None : False : False\n",
      "                        ('Oceanus Yap', 'Oceanus Yap') :     0 :   0.0 :  None : False : False\n",
      "                      ('Oceanus Yap', 'Rajab Heintze') :     0 :   0.0 :  None : False : False\n",
      "                      ('Oceanus Yap', 'Tiger Probert') :     0 :   0.0 :  None : False : False\n",
      "                      ('Rajab Heintze', 'Kevin Bacon') :     0 :   0.0 :  None : False : False\n",
      "              ('Rajab Heintze', 'Lakeshia Westerberg') :     0 :   1.0 :  None : False : False\n",
      "                      ('Rajab Heintze', 'Oceanus Yap') :     0 :   0.0 :  None : False : False\n",
      "                    ('Rajab Heintze', 'Rajab Heintze') :     0 :   0.0 :  None : False : False\n",
      "                    ('Rajab Heintze', 'Tiger Probert') :     0 :   0.0 :  None : False : False\n",
      "                      ('Tiger Probert', 'Kevin Bacon') :     0 :   0.0 :  None : False : False\n",
      "              ('Tiger Probert', 'Lakeshia Westerberg') :     0 :   0.0 :  None : False : False\n",
      "                      ('Tiger Probert', 'Oceanus Yap') :     0 :   0.0 :  None : False : False\n",
      "                    ('Tiger Probert', 'Rajab Heintze') :     0 :   1.0 :  None : False : False\n",
      "                    ('Tiger Probert', 'Tiger Probert') :     0 :   0.0 :  None : False : False\n",
      "\n",
      "  Objectives:\n",
      "    obj : Size=1, Index=None, Active=True\n",
      "        Key  : Active : Value\n",
      "        None :   True :   3.0\n",
      "\n",
      "  Constraints:\n",
      "    flow_conservation : Size=5\n",
      "        Key                 : Lower : Body : Upper\n",
      "                Kevin Bacon :   0.0 :  0.0 :   0.0\n",
      "        Lakeshia Westerberg :   0.0 :  0.0 :   0.0\n",
      "                Oceanus Yap :   0.0 :  0.0 :   0.0\n",
      "              Rajab Heintze :   0.0 :  0.0 :   0.0\n",
      "              Tiger Probert :   0.0 :  0.0 :   0.0\n",
      "Kevin Bacon -> Tiger Probert\n",
      "Tiger Probert -> Rajab Heintze\n",
      "Rajab Heintze -> Lakeshia Westerberg\n"
     ]
    }
   ],
   "source": [
    "# all variables\n",
    "prob.display()\n",
    "\n",
    "# custom print example\n",
    "for actors in prob.flow:\n",
    "    if prob.flow[actors].value > 0: \n",
    "        print(\"{} -> {}\".format(actors[0], actors[1]))"
   ]
  },
  {
   "cell_type": "code",
   "execution_count": null,
   "metadata": {},
   "outputs": [],
   "source": []
  }
 ],
 "metadata": {
  "hide_input": false,
  "kernelspec": {
   "display_name": "Python 3",
   "language": "python",
   "name": "python3"
  },
  "language_info": {
   "codemirror_mode": {
    "name": "ipython",
    "version": 3
   },
   "file_extension": ".py",
   "mimetype": "text/x-python",
   "name": "python",
   "nbconvert_exporter": "python",
   "pygments_lexer": "ipython3",
   "version": "3.5.2"
  },
  "toc": {
   "nav_menu": {},
   "number_sections": true,
   "sideBar": true,
   "skip_h1_title": false,
   "toc_cell": false,
   "toc_position": {},
   "toc_section_display": "block",
   "toc_window_display": false
  },
  "varInspector": {
   "cols": {
    "lenName": 16,
    "lenType": 16,
    "lenVar": 40
   },
   "kernels_config": {
    "python": {
     "delete_cmd_postfix": "",
     "delete_cmd_prefix": "del ",
     "library": "var_list.py",
     "varRefreshCmd": "print(var_dic_list())"
    },
    "r": {
     "delete_cmd_postfix": ") ",
     "delete_cmd_prefix": "rm(",
     "library": "var_list.r",
     "varRefreshCmd": "cat(var_dic_list()) "
    }
   },
   "types_to_exclude": [
    "module",
    "function",
    "builtin_function_or_method",
    "instance",
    "_Feature"
   ],
   "window_display": false
  }
 },
 "nbformat": 4,
 "nbformat_minor": 2
}
